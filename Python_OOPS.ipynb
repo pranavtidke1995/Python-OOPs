{
  "nbformat": 4,
  "nbformat_minor": 0,
  "metadata": {
    "colab": {
      "provenance": []
    },
    "kernelspec": {
      "name": "python3",
      "display_name": "Python 3"
    },
    "language_info": {
      "name": "python"
    }
  },
  "cells": [
    {
      "cell_type": "markdown",
      "source": [
        "1. What is Object-Oriented Programming (OOP).\n",
        " - Object-Oriented Programming (OOP) is a programming paradigm based on the concept of objects, which contain data (fields, often called attributes or properties) and methods (functions that operate on the data). OOP helps organize code in a modular, reusable, and scalable way.\n",
        "\n",
        "2. What is a class in OOP.\n",
        " - A class in Object-Oriented Programming (OOP) is a blueprint or template for creating objects. It defines the properties (attributes) and behaviors (methods) that objects of that class will have.  \n",
        " Think of a class as a plan for building multiple similar objects.\n",
        "\n",
        "3. What is an object in OOP?\n",
        " - An object is an instance of a class. It represents a real-world entity with specific data (attributes) and behaviors (methods) defined by its class.  \n",
        "Think of a class as a blueprint, and objects as actual products created from that blueprint.\n",
        "\n",
        "4. What is the difference between abstraction and encapsulation?\n",
        " - Abstraction:  \n",
        " : What it is:  \n",
        ".Abstraction focuses on hiding complex implementation details and showing only the essential features of an object.     \n",
        ".It's about \"what\" an object does, rather than \"how\" it does it.  \n",
        ".It simplifies complex systems by breaking them down into manageable parts.\n",
        " *Encapsulation:  \n",
        ":What it is:  \n",
        ".Encapsulation is the practice of bundling data (attributes) and methods (functions) that operate on that data into a single unit, called a class.\n",
        ".It also involves controlling access to the internal data of an object, often by making attributes private and providing public methods (getters and setters) to access or modify them.     \n",
        ".It's about \"how\" the data is being protected.\n",
        "\n",
        "\n",
        "5. What are dunder methods in Python?\n",
        " - In Python, \"dunder\" methods, also known as \"magic methods\" or \"special methods,\" are methods with double underscores at the beginning and end of their names (e.g., __init__, __str__, __add__). These methods allow you to define how your objects behave with built-in Python operations.\n",
        "\n",
        "6. Explain the concept of inheritance in OOP.\n",
        " - Inheritance is a fundamental concept in Object-Oriented Programming (OOP) that allows a child class (subclass) to inherit properties and methods from a parent class (superclass). This promotes code reuse, organization, and scalability.\n",
        "\n",
        "7. What is polymorphism in OOP?\n",
        " - In object-oriented programming (OOP), polymorphism is the ability of an object to take on many forms. Essentially, it allows objects of different classes to respond to the same method call in their own specific way.\n",
        " *Core Idea:  \n",
        ". \"Poly\" means \"many,\" and \"morphism\" means \"forms.\" So, polymorphism means \"many forms.\"\n",
        ". In OOP, this translates to the ability of a single interface to represent multiple underlying forms (data types).\n",
        "\n",
        "8. How is encapsulation achieved in Python?\n",
        " - Encapsulation in Python, like in other object-oriented programming languages, is about bundling data (attributes) and methods (functions) that operate on that data into a single unit, a class. However, Python's approach has some nuances. Here's how it's achieved:\n",
        "\n",
        " * Class Structure:  \n",
        "The foundation of encapsulation is the class. It's where you group related data and methods.\n",
        " * Access Modifiers (Conventions):  \n",
        "Python doesn't have strict access modifiers like public, private, and protected in the same way that languages like Java or C++ do. Instead, it relies on naming conventions:\n",
        ". Public Members:\n",
        "These are accessible from anywhere. By default, attributes and methods are public.  \n",
        ". Protected Members:  \n",
        "These are intended for internal use within the class and its subclasses. They are indicated by a single leading underscore (_).\n",
        "While you can access them from outside the class, it's a convention to avoid doing so.  \n",
        ". Private Members:    \n",
        "These are intended for use only within the class. They are indicated by a double leading underscore (__).\n",
        "Python uses \"name mangling\" to make these members harder to access directly from outside the class. This doesn't make them completely inaccessible, but it discourages direct access.     \n",
        " * Getter and Setter Methods (Properties):    \n",
        "To control access to attributes, you can use getter and setter methods.\n",
        "Getter methods retrieve the value of an attribute.\n",
        "Setter methods modify the value of an attribute.\n",
        "  Python's @property decorator provides a more Pythonic way to implement getters and setters. It allows you to access attributes as if they were public, while still controlling access through methods.\n",
        "\n",
        "9. What is a constructor in Python?\n",
        " - A constructor in Python is a special method called __init__() that is automatically executed when a new object of a class is created. It is used to initialize object attributes with default or user-defined values.\n",
        "\n",
        "10. What are class and static methods in Python?\n",
        " - In Python, class methods and static methods are special types of methods that are defined within a class. They differ from regular instance methods in how they are called and what data they can access. Here's a breakdown:\n",
        " * Class Methods:  \n",
        " . Definition:  \n",
        "A class method is a method that is bound to the class and not to an instance of the class.\n",
        "It takes the class itself as its first argument, conventionally named cls.\n",
        "It is defined using the @classmethod decorator.   \n",
        " * Static Methods:  \n",
        ". Definition:\n",
        "A static method is a method that is bound to the class but does not have access to the class or instance attributes.\n",
        "It does not take any special first argument (neither self nor cls).\n",
        "It is defined using the @staticmethod decorator.\n",
        "\n",
        "11. What is method overloading in Python?\n",
        " - Method overloading is a concept in Object-Oriented Programming (OOP) where multiple methods have the same name but different parameters (different number or types of arguments).  \n",
        ". Python does NOT support method overloading like Java or C++.  \n",
        ". However, it can be simulated using default arguments or *args and **kwargs.\n",
        "\n",
        "12. What is method overriding in OOP?\n",
        " - In object-oriented programming (OOP), method overriding is a powerful mechanism that allows a subclass to provide a specific implementation of a method that is already defined in its superclass. Here's a breakdown:\n",
        " * Core Concept:  \n",
        ". Inheritance is Key:  \n",
        "Method overriding is closely tied to inheritance. It occurs when a subclass inherits a method from its superclass.  \n",
        ". Customization:  \n",
        "The subclass can then provide its own, specialized version of that inherited method. This is \"overriding.\"     \n",
        ". Polymorphism:  \n",
        "Method overriding is a key component of runtime polymorphism, meaning the correct method to execute is determined at runtime based on the object's actual type.\n",
        "\n",
        "13. What is a property decorator in Python?\n",
        " - The @property decorator in Python is a powerful tool used in object-oriented programming to manage class attributes. It allows you to define methods that behave like attributes, providing a clean and Pythonic way to control access to and modification of data.\n",
        "\n",
        " * Purpose:  \n",
        ". Encapsulation:  \n",
        "It helps encapsulate attribute access, allowing you to add logic (like validation) when getting or setting attribute values.  \n",
        ". Controlled Access:  \n",
        "It provides a way to control how attributes are accessed and modified, preventing direct and potentially problematic manipulation.  \n",
        ". Getter and Setter Functionality:  \n",
        "It offers a more elegant way to implement getter and setter methods, making your code more readable.  \n",
        ". Abstraction:  \n",
        "It allows you to change the internal implementation of an attribute without affecting the external interface of the class.\n",
        "\n",
        "14. Why is polymorphism important in OOP?\n",
        " - Polymorphism is a cornerstone of object-oriented programming (OOP) because it brings several crucial benefits that enhance code flexibility, reusability, and maintainability. Here's a breakdown of its importance:  \n",
        "\n",
        "  1] Flexibility and Extensibility:\n",
        " * \"Many Forms\" Advantage:\n",
        " . Polymorphism allows objects of different classes to be treated as objects of a common superclass. This means you can write code that works with a variety of objects without needing to know their specific types in advance.  \n",
        " . This makes your code more adaptable to changes and new requirements. You can easily add new subclasses without modifying existing code that uses the superclass.    \n",
        " * Plug-and-Play Components:\n",
        "Polymorphism enables you to create \"pluggable\" components. You can swap out different implementations of a superclass without affecting the rest of the code.    \n",
        "\n",
        " 2] Code Reusability:\n",
        " * General-Purpose Code:\n",
        "Polymorphism allows you to write general-purpose code that can be used with different types of objects.  \n",
        "For example, you can create a function that takes a \"Shape\" object as input and calls its \"draw()\" method. This function can then be used with \"Circle,\" \"Square,\" and \"Triangle\" objects, even though they have different implementations of the \"draw()\" method.    \n",
        " * Reduced Redundancy:\n",
        "By avoiding the need to write separate code for each specific type of object, you reduce code redundancy and improve code reusability.  \n",
        "\n",
        " 3] Maintainability:  \n",
        " * Simplified Code:\n",
        "Polymorphism simplifies code by allowing you to work with objects at a higher level of abstraction.\n",
        "This makes your code easier to understand, maintain, and modify.\n",
        " * educed Coupling:\n",
        "Polymorphism reduces coupling between classes. Code that uses polymorphism is less dependent on the specific types of objects it works with.  \n",
        "This makes it easier to change or replace classes without affecting other parts of the code.\n",
        "\n",
        "15. What is an abstract class in Python?\n",
        " - In Python, an abstract class serves as a blueprint for other classes. It's designed to be inherited, and it can contain abstract methods, which are methods declared but not implemented within the abstract class itself.\n",
        "\n",
        "16. What is the difference between a class variable and an instance variable?\n",
        " - Understanding the distinction between class variables and instance variables is fundamental to grasping object-oriented programming in Python. Here's a clear explanation:\n",
        " * Instance Variables:  \n",
        ". Definition:  \n",
        "Instance variables are unique to each instance (object) of a class.\n",
        "They hold data that is specific to that particular object.\n",
        "They are defined within the __init__ method (the constructor) or other instance methods, and they are prefixed with self.  \n",
        " . Characteristics:  \n",
        "Each object gets its own copy of instance variables.\n",
        "Changes made to an instance variable in one object do not affect the values of that variable in other objects.\n",
        "They represent the state of an individual object.  \n",
        " * Class Variables:  \n",
        " . Definition:  \n",
        "Class variables are shared by all instances of a class.\n",
        "They are defined within the class but outside of any methods.\n",
        "They hold data that is common to all objects of that class.\n",
        " . Characteristics:\n",
        "There is only one copy of a class variable, which is shared among all instances.\n",
        "Changes made to a class variable affect all instances of the class.\n",
        "They represent the state of the class itself.\n",
        "\n",
        "\n",
        "17. What is multiple inheritance in Python?\n",
        " - Multiple inheritance in Python is a feature that allows a class to inherit attributes and methods from more than one parent class. This provides a way to combine functionalities from different classes into a single class.\n",
        "\n",
        "19.  Explain the purpose of ‘’__str__’ and ‘__repr__’ ‘ methods in Python?\n",
        " - Both __str__ and __repr__ are special methods in Python used to provide string representations of objects. However, they serve slightly different purposes and are intended for different audiences.\n",
        "\n",
        " * __str__(self):  \n",
        ". Purpose:  \n",
        "The primary purpose of __str__ is to provide a human-readable, informal string representation of an object.\n",
        "It's intended to be used by end-users or for general output.  \n",
        " . Usage:  \n",
        "Called implicitly by the str() built-in function and the print() statement.\n",
        "Should return a string that is easy to understand.  \n",
        " * __repr__(self):  \n",
        ". Purpose:  \n",
        "The primary purpose of __repr__ is to provide an unambiguous, developer-friendly string representation of an object.\n",
        "It's intended to be used for debugging, logging, and development purposes.  \n",
        ". Usage:  \n",
        "Called implicitly by the repr() built-in function.\n",
        "When you type an object's name in the Python interactive interpreter, __repr__ is called.\n",
        "Ideally, it should return a string that, when passed to eval(), would recreate the object (or at least provide enough information to understand its state). If that is not possible, it should return a descriptive developer centric string.\n",
        "\n",
        "\n",
        "20. What is the significance of the ‘super()’ function in Python?\n",
        " - The super() function in Python plays a crucial role in object-oriented programming, especially when dealing with inheritance, particularly multiple inheritance. Its significance lies in its ability to:  \n",
        "1] Call Methods from Parent Classes:  \n",
        " super() allows you to call methods defined in a parent class from within a child class.\n",
        "This is particularly useful when you want to extend or modify the behavior of a parent class method without completely rewriting it.  \n",
        "2] Resolve Method Resolution Order (MRO):  \n",
        " In cases of multiple inheritance, where a class inherits from multiple parent classes, super() helps ensure that methods are called in the correct order, according to the MRO.\n",
        "The MRO defines the order in which Python searches for methods in a class hierarchy.\n",
        "super() dynamically determines the next class in the MRO and calls its method.  \n",
        "3] Avoid Explicit Parent Class Names:  \n",
        " Using super() eliminates the need to explicitly specify the parent class name, making your code more maintainable and adaptable.\n",
        "If you change the parent class, you don't have to update all the method calls in the child class.   \n",
        "4] Facilitate Cooperative Multiple Inheritance:  \n",
        " super() is essential for implementing cooperative multiple inheritance, where multiple parent classes work together to provide functionality.\n",
        "It ensures that each parent class has a chance to execute its code, avoiding conflicts and ensuring proper initialization.\n",
        "\n",
        "21. What is the significance of the __del__ method in Python?\n",
        " - The __del__ method in Python is a special method, also known as a destructor, that is called when an object is about to be garbage collected. Its significance, however, is often overstated, and its use is generally discouraged in most scenarios.\n",
        " * Purpose:  \n",
        "The intended purpose of __del__ is to perform cleanup operations when an object is no longer needed. This might include:\n",
        "Releasing external resources (e.g., closing file handles, network connections).\n",
        "Unregistering objects from event listeners.\n",
        "Performing other finalization tasks.\n",
        " * How it Works:  \n",
        "When an object's reference count reaches zero, Python's garbage collector will eventually call the object's __del__ method.\n",
        "This method is called just before the object's memory is reclaimed.\n",
        "\n",
        "22. What is the difference between @staticmethod and @classmethod in Python?\n",
        " - @staticmethod:  \n",
        ". Definition:  \n",
        "A static method is a method that belongs to the class but does not have access to the class itself or its instances.\n",
        "It's essentially a regular function that is placed within the class's namespace for organizational purposes.\n",
        "It does not take self or cls as its first argument.  \n",
        ". Purpose:  \n",
        "Static methods are used for utility functions that are related to the class but do not depend on the class's or instance's state.\n",
        "They are useful for grouping related functions within a class.\n",
        " * @classmethod:  \n",
        " . Definition:  \n",
        "A class method is a method that is bound to the class and receives the class itself as its first argument, conventionally named cls.\n",
        "It can access and modify class-level attributes.  \n",
        " . Purpose:  \n",
        "Class methods are used for operations that involve the class itself, such as:\n",
        "Creating factory methods (methods that create instances of the class).\n",
        "Modifying class-level attributes.\n",
        "\n",
        "23. How does polymorphism work in Python with inheritance?\n",
        " - Polymorphism in Python, especially in the context of inheritance, allows objects of different classes to respond to the same method call in their own unique ways. This is a powerful concept that enhances code flexibility and reusability. Here's how it works:  \n",
        "1] Inheritance and Method Overriding:  \n",
        ". Base Class and Subclasses:  \n",
        "You start with a base class (also called a superclass or parent class) that defines a common interface, meaning it has methods that define certain behaviors.\n",
        "Then, you create subclasses (also called derived classes or child classes) that inherit from the base class.\n",
        "Method Overriding:\n",
        "A key aspect of polymorphism is method overriding. This occurs when a subclass provides its own specific implementation of a method that is already defined in its base class.\n",
        "When you call that method on an object of the subclass, the subclass's version of the method is executed, effectively \"overriding\" the base class's version.  \n",
        "2] Dynamic Dispatch:  \n",
        ". Runtime Behavior:  \n",
        "Python's dynamic typing plays a crucial role. The decision of which method to execute is made at runtime, based on the actual type of the object. This is known as dynamic dispatch.  \n",
        ". Flexibility:  \n",
        "This dynamic behavior allows you to write code that can work with objects of different subclasses without needing to know their specific types in advance.  \n",
        "3] Example Scenario:  \n",
        "Imagine a base class called Animal with a method called make_sound().\n",
        "You can create subclasses like Dog and Cat, each with its own implementation of make_sound().\n",
        "When you have a list of Animal objects (which might contain a mix of Dog and Cat objects), you can iterate through the list and call make_sound() on each object.\n",
        "Because of polymorphism, each object will produce its own appropriate sound (a bark or a meow).\n",
        "\n",
        "24. What is method chaining in Python OOP?\n",
        " - Method chaining in Python OOP is a technique that allows you to call multiple methods on an object in a single line of code. It enhances code readability and conciseness by eliminating the need 1  to store intermediate results in separate variables.\n",
        "\n",
        "25. What is the purpose of the __call__ method in Python?\n",
        " - The __call__ method in Python is a special method that allows an object to be called like a regular function. When you define __call__ in a class, instances of that class become callable.\n",
        " * Purpose:  \n",
        ". Callable Objects:  \n",
        " The primary purpose of __call__ is to make objects callable. This means you can invoke an instance of a class as if it were a function.  \n",
        ". Function-Like Behavior:  \n",
        " It allows you to create objects that behave like functions, but with the added benefit of being able to store state and have other object-oriented features.  \n",
        ". Creating Function-Like Objects:  \n",
        " It is very useful when you need to create objects that have some internal state that needs to be retained between calls.  \n",
        ". Implementing Functors:  \n",
        " In functional programming terminology, objects that can be called like functions are often referred to as \"functors.\"\n",
        "\n",
        "\n",
        "\n",
        "\n",
        "   \n"
      ],
      "metadata": {
        "id": "Y476uTDzfZEE"
      }
    },
    {
      "cell_type": "code",
      "execution_count": 2,
      "metadata": {
        "colab": {
          "base_uri": "https://localhost:8080/"
        },
        "id": "LxYvg21-fXEV",
        "outputId": "eece7ea5-ed90-4003-951d-7d06f573eb2c"
      },
      "outputs": [
        {
          "output_type": "stream",
          "name": "stdout",
          "text": [
            "Animal makes a sound\n",
            "Bark!\n"
          ]
        }
      ],
      "source": [
        "1. #Create a parent class Animal with a method speak() that prints a generic message. Create a child class Dog that overrides the speak() method to print \"Bark!#\n",
        "class Animal:\n",
        "    def speak(self):\n",
        "        print(\"Animal makes a sound\")\n",
        "\n",
        "class Dog(Animal):\n",
        "    def speak(self):\n",
        "        print(\"Bark!\")\n",
        "\n",
        "generic_animal = Animal()\n",
        "generic_animal.speak()\n",
        "\n",
        "dog = Dog()\n",
        "dog.speak()"
      ]
    },
    {
      "cell_type": "code",
      "source": [
        "# Write a program to create an abstract class Shape with a method area(). Derive classes Circle and Rectangle from it and implement the area() method in both#\n",
        "from abc import ABC, abstractmethod\n",
        "import math\n",
        "\n",
        "class Shape(ABC):\n",
        "    @abstractmethod\n",
        "    def area(self):\n",
        "        pass\n",
        "\n",
        "class Circle(Shape):\n",
        "    def __init__(self, radius):\n",
        "        self.radius = radius\n",
        "\n",
        "    def area(self):\n",
        "        return math.pi * self.radius ** 2\n",
        "\n",
        "class Rectangle(Shape):\n",
        "    def __init__(self, length, width):\n",
        "        self.length = length\n",
        "        self.width = width\n",
        "\n",
        "    def area(self):\n",
        "        return self.length * self.width\n",
        "\n",
        "circle = Circle(5)\n",
        "rectangle = Rectangle(4, 6)\n",
        "\n",
        "print(\"Circle Area:\", circle.area())\n",
        "print(\"Rectangle Area:\", rectangle.area())\n"
      ],
      "metadata": {
        "colab": {
          "base_uri": "https://localhost:8080/"
        },
        "id": "K56HOX3w1JTj",
        "outputId": "b79688dd-7ab4-4ace-8b2b-cb803ad08e22"
      },
      "execution_count": 3,
      "outputs": [
        {
          "output_type": "stream",
          "name": "stdout",
          "text": [
            "Circle Area: 78.53981633974483\n",
            "Rectangle Area: 24\n"
          ]
        }
      ]
    },
    {
      "cell_type": "code",
      "source": [
        "# Implement a multi-level inheritance scenario where a class Vehicle has an attribute type. Derive a class Car and further derive a class ElectricCar that adds a battery attribute.\n",
        "\n",
        "class Vehicle:\n",
        "    def __init__(self, type):\n",
        "        self.type = type\n",
        "\n",
        "class Car(Vehicle):\n",
        "    def __init__(self, type, brand):\n",
        "        super().__init__(type)\n",
        "        self.brand = brand\n",
        "\n",
        "class ElectricCar(Car):\n",
        "    def __init__(self, type, brand, battery_capacity):\n",
        "        super().__init__(type, brand)\n",
        "        self.battery_capacity = battery_capacity\n",
        "\n",
        "    def display_info(self):\n",
        "        print(f\"Type: {self.type}, Brand: {self.brand}, Battery: {self.battery_capacity} kWh\")\n",
        "\n",
        "tesla = ElectricCar(\"Four-Wheeler\", \"Tesla\", 75)\n",
        "tesla.display_info()\n"
      ],
      "metadata": {
        "colab": {
          "base_uri": "https://localhost:8080/"
        },
        "id": "2t-Dn2Ye1jio",
        "outputId": "cdbb4a3d-d226-49dc-ca62-d9af9d10e9af"
      },
      "execution_count": 4,
      "outputs": [
        {
          "output_type": "stream",
          "name": "stdout",
          "text": [
            "Type: Four-Wheeler, Brand: Tesla, Battery: 75 kWh\n"
          ]
        }
      ]
    },
    {
      "cell_type": "code",
      "source": [
        "#  Write a program to demonstrate encapsulation by creating a class BankAccount with private attributes balance and methods to deposit, withdraw, and check balance.\n",
        "class BankAccount:\n",
        "    def __init__(self, initial_balance):\n",
        "        self.__balance = initial_balance\n",
        "\n",
        "    def deposit(self, amount):\n",
        "        if amount > 0:\n",
        "            self.__balance += amount\n",
        "            print(f\"Deposited: {amount}\")\n",
        "        else:\n",
        "            print(\"Deposit amount must be positive.\")\n",
        "\n",
        "    def withdraw(self, amount):\n",
        "        if 0 < amount <= self.__balance:\n",
        "            self.__balance -= amount\n",
        "            print(f\"Withdrawn: {amount}\")\n",
        "        else:\n",
        "            print(\"Invalid withdrawal amount or insufficient funds.\")\n",
        "\n",
        "    def check_balance(self):\n",
        "        print(f\"Current Balance: {self.__balance}\")\n",
        "\n",
        "account = BankAccount(1000)\n",
        "\n",
        "account.deposit(500)\n",
        "account.withdraw(300)\n",
        "account.check_balance()\n"
      ],
      "metadata": {
        "colab": {
          "base_uri": "https://localhost:8080/"
        },
        "id": "wLQxOkcQ282A",
        "outputId": "d60a28b8-53da-485f-eaa0-e7c921bee462"
      },
      "execution_count": 5,
      "outputs": [
        {
          "output_type": "stream",
          "name": "stdout",
          "text": [
            "Deposited: 500\n",
            "Withdrawn: 300\n",
            "Current Balance: 1200\n"
          ]
        }
      ]
    },
    {
      "cell_type": "code",
      "source": [
        "# Demonstrate runtime polymorphism using a method play() in a base class Instrument. Derive classes Guitar and Piano that implement their own version of play().\n",
        "\n",
        "class Instrument:\n",
        "    def play(self):\n",
        "        print(\"Playing an instrument\")\n",
        "\n",
        "class Guitar(Instrument):\n",
        "    def play(self):\n",
        "        print(\"Strumming the guitar\")\n",
        "\n",
        "class Piano(Instrument):\n",
        "    def play(self):\n",
        "        print(\"Playing the piano keys\")\n",
        "\n",
        "def play_instrument(instrument):\n",
        "    instrument.play()\n",
        "\n",
        "guitar = Guitar()\n",
        "piano = Piano()\n",
        "\n",
        "play_instrument(guitar)\n",
        "play_instrument(piano)"
      ],
      "metadata": {
        "colab": {
          "base_uri": "https://localhost:8080/"
        },
        "id": "12b_45-R3lci",
        "outputId": "6c9a0187-802b-43f4-b024-366308723a7d"
      },
      "execution_count": 6,
      "outputs": [
        {
          "output_type": "stream",
          "name": "stdout",
          "text": [
            "Strumming the guitar\n",
            "Playing the piano keys\n"
          ]
        }
      ]
    },
    {
      "cell_type": "code",
      "source": [
        "# Create a class MathOperations with a class method add_numbers() to add two numbers and a static method subtract_numbers() to subtract two numbers.\n",
        "class MathOperations:\n",
        "    @classmethod\n",
        "    def add_numbers(cls, a, b):\n",
        "        return a + b\n",
        "\n",
        "    @staticmethod\n",
        "    def subtract_numbers(a, b):\n",
        "        return a - b\n",
        "\n",
        "sum_result = MathOperations.add_numbers(10, 5)\n",
        "print(\"Sum:\", sum_result)\n",
        "difference_result = MathOperations.subtract_numbers(10, 5)\n",
        "print(\"Difference:\", difference_result)"
      ],
      "metadata": {
        "colab": {
          "base_uri": "https://localhost:8080/"
        },
        "id": "PsvzfcRl5Ni5",
        "outputId": "498e0125-23e6-4c2c-b483-4410c4b71aa4"
      },
      "execution_count": 7,
      "outputs": [
        {
          "output_type": "stream",
          "name": "stdout",
          "text": [
            "Sum: 15\n",
            "Difference: 5\n"
          ]
        }
      ]
    },
    {
      "cell_type": "code",
      "source": [
        "#  Implement a class Person with a class method to count the total number of persons created.\n",
        "class Person:\n",
        "    count = 0\n",
        "\n",
        "    def __init__(self, name):\n",
        "        self.name = name\n",
        "        Person.count += 1\n",
        "\n",
        "    @classmethod\n",
        "    def total_persons(cls):\n",
        "        return cls.count\n",
        "\n",
        "p1 = Person(\"Alice\")\n",
        "p2 = Person(\"Bob\")\n",
        "p3 = Person(\"Charlie\")\n",
        "\n",
        "print(\"Total Persons:\", Person.total_persons())\n"
      ],
      "metadata": {
        "colab": {
          "base_uri": "https://localhost:8080/"
        },
        "id": "F5iQjC1c5rHf",
        "outputId": "9983e988-8e18-4f8a-abfd-955e1cb6b982"
      },
      "execution_count": 8,
      "outputs": [
        {
          "output_type": "stream",
          "name": "stdout",
          "text": [
            "Total Persons: 3\n"
          ]
        }
      ]
    },
    {
      "cell_type": "code",
      "source": [
        "#  Write a class Fraction with attributes numerator and denominator. Override the str method to display the fraction as \"numerator/denominator\".\n",
        "class Fraction:\n",
        "    def __init__(self, numerator, denominator):\n",
        "        self.numerator = numerator\n",
        "        self.denominator = denominator\n",
        "\n",
        "    def __str__(self):\n",
        "        return f\"{self.numerator}/{self.denominator}\"\n",
        "\n",
        "frac1 = Fraction(3, 4)\n",
        "frac2 = Fraction(5, 8)\n",
        "\n",
        "print(frac1)\n",
        "print(frac2)\n"
      ],
      "metadata": {
        "colab": {
          "base_uri": "https://localhost:8080/"
        },
        "id": "pWVqsjWt6pPa",
        "outputId": "4e76ed09-36ae-4aa2-d522-69fbaf2e0ddb"
      },
      "execution_count": 9,
      "outputs": [
        {
          "output_type": "stream",
          "name": "stdout",
          "text": [
            "3/4\n",
            "5/8\n"
          ]
        }
      ]
    },
    {
      "cell_type": "code",
      "source": [
        "#  Demonstrate operator overloading by creating a class Vector and overriding the add method to add two vectors.\n",
        "class Vector:\n",
        "    def __init__(self, x, y):\n",
        "        self.x = x\n",
        "        self.y = y\n",
        "\n",
        "    def __add__(self, other):\n",
        "        return Vector(self.x + other.x, self.y + other.y)\n",
        "\n",
        "    def __str__(self):\n",
        "        return f\"({self.x}, {self.y})\"\n",
        "\n",
        "v1 = Vector(2, 3)\n",
        "v2 = Vector(4, 5)\n",
        "\n",
        "v3 = v1 + v2\n",
        "\n",
        "print(v3)\n"
      ],
      "metadata": {
        "colab": {
          "base_uri": "https://localhost:8080/"
        },
        "id": "Zd-teY137TWa",
        "outputId": "51165626-60f8-4076-c607-b7ffbf43dfa8"
      },
      "execution_count": 10,
      "outputs": [
        {
          "output_type": "stream",
          "name": "stdout",
          "text": [
            "(6, 8)\n"
          ]
        }
      ]
    },
    {
      "cell_type": "code",
      "source": [
        "# Create a class Person with attributes name and age. Add a method greet() that prints \"Hello, my name is {name} and I am {age} years old.\"\n",
        "class Person:\n",
        "    def __init__(self, name, age):\n",
        "        self.name = name\n",
        "        self.age = age\n",
        "\n",
        "    def greet(self):\n",
        "        print(f\"Hello, my name is {self.name} and I am {self.age} years old.\")\n",
        "\n",
        "p1 = Person(\"Pranav\", 29)\n",
        "\n",
        "p1.greet()\n"
      ],
      "metadata": {
        "colab": {
          "base_uri": "https://localhost:8080/"
        },
        "id": "0YwRAeS873yi",
        "outputId": "a40765b9-d89b-4d1c-a4a7-f627d7181b45"
      },
      "execution_count": 12,
      "outputs": [
        {
          "output_type": "stream",
          "name": "stdout",
          "text": [
            "Hello, my name is Pranav and I am 29 years old.\n"
          ]
        }
      ]
    },
    {
      "cell_type": "code",
      "source": [
        "# Implement a class Student with attributes name and grades. Create a method average_grade() to compute the average of the grades.\n",
        "class Student:\n",
        "    def __init__(self, name, grades):\n",
        "        self.name = name\n",
        "        self.grades = grades\n",
        "\n",
        "    def average_grade(self):\n",
        "        return sum(self.grades) / len(self.grades) if self.grades else 0\n",
        "\n",
        "student1 = Student(\"John\", [85, 90, 78, 92])\n",
        "\n",
        "print(\"Average Grade:\", student1.average_grade())\n"
      ],
      "metadata": {
        "colab": {
          "base_uri": "https://localhost:8080/"
        },
        "id": "bggcCsNk8P3c",
        "outputId": "5ce6f445-5827-4d4f-becc-bb0fd4217f1b"
      },
      "execution_count": 13,
      "outputs": [
        {
          "output_type": "stream",
          "name": "stdout",
          "text": [
            "Average Grade: 86.25\n"
          ]
        }
      ]
    },
    {
      "cell_type": "code",
      "source": [
        "# Create a class Rectangle with methods set_dimensions() to set the dimensions and area() to calculate the area.\n",
        "class Rectangle:\n",
        "    def __init__(self):\n",
        "        self.length = 0\n",
        "        self.width = 0\n",
        "\n",
        "    def set_dimensions(self, length, width):\n",
        "        self.length = length\n",
        "        self.width = width\n",
        "\n",
        "    def area(self):\n",
        "        return self.length * self.width\n",
        "\n",
        "rect = Rectangle()\n",
        "\n",
        "rect.set_dimensions(5, 10)\n",
        "\n",
        "print(\"Area:\", rect.area())\n"
      ],
      "metadata": {
        "colab": {
          "base_uri": "https://localhost:8080/"
        },
        "id": "KrBhhuSi9gtq",
        "outputId": "ae24e65a-b271-4236-d295-b2a39aeffb59"
      },
      "execution_count": 14,
      "outputs": [
        {
          "output_type": "stream",
          "name": "stdout",
          "text": [
            "Area: 50\n"
          ]
        }
      ]
    },
    {
      "cell_type": "code",
      "source": [
        "#  Create a class Employee with a method calculate_salary() that computes the salary based on hours worked and hourly rate. Create a derived class Manager that adds a bonus to the salary\n",
        "class Employee:\n",
        "    def __init__(self, name, hours_worked, hourly_rate):\n",
        "        self.name = name\n",
        "        self.hours_worked = hours_worked\n",
        "        self.hourly_rate = hourly_rate\n",
        "\n",
        "    def calculate_salary(self):\n",
        "        return self.hours_worked * self.hourly_rate\n",
        "\n",
        "class Manager(Employee):\n",
        "    def __init__(self, name, hours_worked, hourly_rate, bonus):\n",
        "        super().__init__(name, hours_worked, hourly_rate)\n",
        "        self.bonus = bonus\n",
        "\n",
        "    def calculate_salary(self):\n",
        "        return super().calculate_salary() + self.bonus\n",
        "\n",
        "emp = Employee(\"John\", 40, 20)\n",
        "mgr = Manager(\"Alice\", 40, 30, 500)\n",
        "\n",
        "print(\"Employee Salary:\", emp.calculate_salary())\n",
        "print(\"Manager Salary:\", mgr.calculate_salary())\n"
      ],
      "metadata": {
        "colab": {
          "base_uri": "https://localhost:8080/"
        },
        "id": "2nzbLYmE93Na",
        "outputId": "2fd83af0-801c-4f92-c1c3-9e08d1a1b8d8"
      },
      "execution_count": 15,
      "outputs": [
        {
          "output_type": "stream",
          "name": "stdout",
          "text": [
            "Employee Salary: 800\n",
            "Manager Salary: 1700\n"
          ]
        }
      ]
    },
    {
      "cell_type": "code",
      "source": [
        "# Create a class Product with attributes name, price, and quantity. Implement a method total_price() that calculates the total price of the product.\n",
        "class Product:\n",
        "    def __init__(self, name, price, quantity):\n",
        "        self.name = name\n",
        "        self.price = price\n",
        "        self.quantity = quantity\n",
        "\n",
        "    def total_price(self):\n",
        "        return self.price * self.quantity\n",
        "\n",
        "product1 = Product(\"Laptop\", 800, 2)\n",
        "\n",
        "print(\"Total Price:\", product1.total_price())\n"
      ],
      "metadata": {
        "colab": {
          "base_uri": "https://localhost:8080/"
        },
        "id": "UYlkiQEC-WSw",
        "outputId": "1114f770-0bdf-4776-e9c8-f6250bc43d6a"
      },
      "execution_count": 16,
      "outputs": [
        {
          "output_type": "stream",
          "name": "stdout",
          "text": [
            "Total Price: 1600\n"
          ]
        }
      ]
    },
    {
      "cell_type": "code",
      "source": [
        "#  Create a class Animal with an abstract method sound(). Create two derived classes Cow and Sheep that implement the sound() method\n",
        "from abc import ABC, abstractmethod\n",
        "\n",
        "class Animal(ABC):\n",
        "    @abstractmethod\n",
        "    def sound(self):\n",
        "        pass\n",
        "\n",
        "class Cow(Animal):\n",
        "    def sound(self):\n",
        "        return \"Moo\"\n",
        "\n",
        "class Sheep(Animal):\n",
        "    def sound(self):\n",
        "        return \"Baa\"\n",
        "\n",
        "cow = Cow()\n",
        "sheep = Sheep()\n",
        "\n",
        "print(\"Cow:\", cow.sound())\n",
        "print(\"Sheep:\", sheep.sound())\n"
      ],
      "metadata": {
        "colab": {
          "base_uri": "https://localhost:8080/"
        },
        "id": "uXEvL_5G-wz5",
        "outputId": "452e867b-fd7a-4111-a562-fd0c7cfbf325"
      },
      "execution_count": 17,
      "outputs": [
        {
          "output_type": "stream",
          "name": "stdout",
          "text": [
            "Cow: Moo\n",
            "Sheep: Baa\n"
          ]
        }
      ]
    },
    {
      "cell_type": "code",
      "source": [
        "#  Create a class Book with attributes title, author, and year_published. Add a method get_book_info() that returns a formatted string with the book's details\n",
        "class Book:\n",
        "    def __init__(self, title, author, year_published):\n",
        "        self.title = title\n",
        "        self.author = author\n",
        "        self.year_published = year_published\n",
        "\n",
        "    def get_book_info(self):\n",
        "        return f\"Title: {self.title}, Author: {self.author}, Year: {self.year_published}\"\n",
        "\n",
        "book1 = Book(\"The Great Gatsby\", \"F. Scott Fitzgerald\", 1925)\n",
        "\n",
        "print(book1.get_book_info())\n"
      ],
      "metadata": {
        "colab": {
          "base_uri": "https://localhost:8080/"
        },
        "id": "mMfUQXvH_FAs",
        "outputId": "6dcd4a19-034d-49fe-ae4e-8ce15b915e08"
      },
      "execution_count": 18,
      "outputs": [
        {
          "output_type": "stream",
          "name": "stdout",
          "text": [
            "Title: The Great Gatsby, Author: F. Scott Fitzgerald, Year: 1925\n"
          ]
        }
      ]
    },
    {
      "cell_type": "code",
      "source": [
        "# Create a class House with attributes address and price. Create a derived class Mansion that adds an attribute number_of_rooms.\n",
        "class House:\n",
        "    def __init__(self, address, price):\n",
        "        self.address = address\n",
        "        self.price = price\n",
        "\n",
        "class Mansion(House):\n",
        "    def __init__(self, address, price, number_of_rooms):\n",
        "        super().__init__(address, price)\n",
        "        self.number_of_rooms = number_of_rooms\n",
        "\n",
        "mansion1 = Mansion(\"123 Luxury St, Beverly Hills\", 5000000, 10)\n",
        "\n",
        "print(f\"Address: {mansion1.address}, Price: ${mansion1.price}, Rooms: {mansion1.number_of_rooms}\")\n"
      ],
      "metadata": {
        "colab": {
          "base_uri": "https://localhost:8080/"
        },
        "id": "xFV5V_-4_YyF",
        "outputId": "f8b01b95-5ec9-48e2-b8cd-c4256a0f3124"
      },
      "execution_count": 19,
      "outputs": [
        {
          "output_type": "stream",
          "name": "stdout",
          "text": [
            "Address: 123 Luxury St, Beverly Hills, Price: $5000000, Rooms: 10\n"
          ]
        }
      ]
    }
  ]
}